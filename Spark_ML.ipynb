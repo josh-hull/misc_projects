{
  "cells": [
    {
      "cell_type": "markdown",
      "metadata": {
        "id": "view-in-github",
        "colab_type": "text"
      },
      "source": [
        "<a href=\"https://colab.research.google.com/github/josh-hull/misc_projects/blob/main/Spark_ML.ipynb\" target=\"_parent\"><img src=\"https://colab.research.google.com/assets/colab-badge.svg\" alt=\"Open In Colab\"/></a>"
      ]
    },
    {
      "cell_type": "markdown",
      "metadata": {
        "id": "0i6Qr7lWEXI3"
      },
      "source": [
        "# Install PySpark Dependencies"
      ]
    },
    {
      "cell_type": "code",
      "execution_count": null,
      "metadata": {
        "id": "TRjnsaJYEXI5"
      },
      "outputs": [],
      "source": [
        "!apt-get install openjdk-8-jdk-headless -qq > /dev/null\n",
        "!rm spark-3.2.3-bin-hadoop3.2.tgz\n",
        "!wget --no-cookies --no-check-certificate https://dlcdn.apache.org/spark/spark-3.2.3/spark-3.2.3-bin-hadoop3.2.tgz\n",
        "!tar zxvf spark-3.2.3-bin-hadoop3.2.tgz\n",
        "!pip install -q findspark\n",
        "!pip install pyspark==3.2.3"
      ]
    },
    {
      "cell_type": "markdown",
      "metadata": {
        "id": "2YUgmmgMEXI6"
      },
      "source": [
        "# Load Data"
      ]
    },
    {
      "cell_type": "code",
      "source": [
        "schema = StructType([\n",
        "    StructField(\"uid\", IntegerType()),\n",
        "    StructField(\"age\", IntegerType()),\n",
        "    StructField(\"age_group\", StringType()),\n",
        "    StructField(\"profession\", StringType()),\n",
        "    StructField(\"marital_status\", StringType()),\n",
        "    StructField(\"education\", StringType()),\n",
        "    StructField(\"default\", StringType()),\n",
        "    StructField(\"housing\", StringType()),\n",
        "    StructField(\"loan\", StringType()),\n",
        "    StructField(\"gender\", StringType()),\n",
        "    StructField(\"balance\", StringType()),\n",
        "    StructField(\"membership\", StringType()),\n",
        "    StructField(\"charges\", IntegerType()),\n",
        "    StructField(\"customer_contacts\", IntegerType()),\n",
        "    StructField(\"attrition\", IntegerType())\n",
        "    ])"
      ],
      "metadata": {
        "id": "HWVOirctxfUE"
      },
      "execution_count": 61,
      "outputs": []
    },
    {
      "cell_type": "code",
      "execution_count": null,
      "metadata": {
        "id": "w87Y3NkkEXI6"
      },
      "outputs": [],
      "source": [
        "!wget https://raw.githubusercontent.com/zaratsian/Datasets/master/banking_attrition.csv"
      ]
    },
    {
      "cell_type": "markdown",
      "metadata": {
        "id": "XyFW2qT4EXI7"
      },
      "source": [
        "# Import Python / Spark Libraries"
      ]
    },
    {
      "cell_type": "code",
      "execution_count": 3,
      "metadata": {
        "id": "zGeQnr7kEXI7"
      },
      "outputs": [],
      "source": [
        "import os\n",
        "os.environ[\"JAVA_HOME\"]  = \"/usr/lib/jvm/java-8-openjdk-amd64\"\n",
        "os.environ[\"SPARK_HOME\"] = \"/content/spark-3.2.3-bin-hadoop3.2\"\n",
        "\n",
        "import datetime, time\n",
        "import re, random, sys\n",
        "\n",
        "# Note - Not all of these will be used, but I've added them for your reference as a \"getting started\"\n",
        "from pyspark import SparkContext\n",
        "from pyspark.sql import SparkSession\n",
        "from pyspark.sql.types import StructType, StructField, ArrayType, IntegerType, StringType, FloatType, LongType, DateType\n",
        "from pyspark.sql.functions import struct, array, lit, monotonically_increasing_id, col, expr, when, concat, udf, split, size, lag, count, isnull\n",
        "from pyspark.sql import Window\n",
        "from pyspark.ml.linalg import Vectors\n",
        "from pyspark.ml.regression import GBTRegressor, LinearRegression, GeneralizedLinearRegression, RandomForestRegressor\n",
        "from pyspark.ml.classification import GBTClassifier, RandomForestClassifier\n",
        "from pyspark.ml.feature import VectorIndexer, VectorAssembler, StringIndexer, IndexToString\n",
        "from pyspark.ml.evaluation import RegressionEvaluator\n",
        "from pyspark.ml import Pipeline, PipelineModel\n",
        "from pyspark.ml.evaluation import MulticlassClassificationEvaluator, RegressionEvaluator"
      ]
    },
    {
      "cell_type": "markdown",
      "metadata": {
        "id": "qwj4MKOoEXI8"
      },
      "source": [
        "# Create Spark Session"
      ]
    },
    {
      "cell_type": "code",
      "execution_count": 43,
      "metadata": {
        "id": "uX9Y0RGtEXI8"
      },
      "outputs": [],
      "source": [
        "spark = SparkSession.builder.appName(\"Spark ML Assignment\").master(\"local[*]\").getOrCreate()"
      ]
    },
    {
      "cell_type": "markdown",
      "metadata": {
        "id": "GQTDmkTVEXI8"
      },
      "source": [
        "# Load CSV Data into Spark Dataframe"
      ]
    },
    {
      "cell_type": "code",
      "execution_count": 62,
      "metadata": {
        "id": "ERytyiAgEXI9"
      },
      "outputs": [],
      "source": [
        "attrition_data = spark.read.load(\"/content/banking_attrition.csv\", format=\"csv\", header=True, schema=schema)"
      ]
    },
    {
      "cell_type": "markdown",
      "metadata": {
        "id": "1y0GKpPrEXI9"
      },
      "source": [
        "# Data Exploration\n",
        "Perform at least one data exploration of your choice (This could be a basic show(), an aggregation/groupby, correlation, summarizer, etc.)"
      ]
    },
    {
      "cell_type": "code",
      "execution_count": 63,
      "metadata": {
        "colab": {
          "base_uri": "https://localhost:8080/"
        },
        "id": "5F-rui-5EXI9",
        "outputId": "8739de93-c482-4672-cfab-3f1dcbf472a5"
      },
      "outputs": [
        {
          "output_type": "stream",
          "name": "stdout",
          "text": [
            "+-------+---+---------+--------------+--------------+-----------+-------+-------+----+------+-------------+----------+-------+-----------------+---------+\n",
            "|    uid|age|age_group|    profession|marital_status|  education|default|housing|loan|gender|      balance|membership|charges|customer_contacts|attrition|\n",
            "+-------+---+---------+--------------+--------------+-----------+-------+-------+----+------+-------------+----------+-------+-----------------+---------+\n",
            "|1000001| 69|      60s|       retired|       married|high school|     no|     no|  no|female| $50k - $100k|      gold|     74|                5|        0|\n",
            "|1000002| 46|      40s|    management|       married|high school|    yes|     no|  no|  male|  $10k - $50k|    silver|    149|                1|        0|\n",
            "|1000003| 45|      40s|    management|       married|high school|     no|     no|  no|female|$100k - $250k|  platinum|     58|                5|        1|\n",
            "|1000004| 54|      50s|administration|      divorced|   graduate|     no|    yes|  no|female|  $10k - $50k|    silver|    317|                4|        1|\n",
            "|1000005| 36|      30s|    management|        single|high school|     no|    yes|  no|  male| $50k - $100k|      gold|    139|                8|        0|\n",
            "|1000006| 25|      20s|       student|       married|   graduate|     no|     no|  no|  male|   Over $250k|  platinum|     21|                8|        0|\n",
            "|1000007| 54|      50s|    management|        single|high school|     no|    yes| yes|female|   Over $250k|  platinum|    128|                0|        0|\n",
            "|1000008| 49|      40s| manufacturing|        single|   graduate|     no|    yes| yes|  male| $50k - $100k|      gold|     40|                0|        0|\n",
            "|1000009| 30|      30s|  entrepreneur|       married|   graduate|     no|     no| yes|  male|$100k - $250k|  platinum|    126|                0|        0|\n",
            "|1000010| 43|      40s|    technician|       married|high school|     no|     no|  no|female|$100k - $250k|  platinum|    102|                1|        0|\n",
            "|1000011| 32|      30s|    technician|        single|   graduate|     no|     no|  no|  male|  $10k - $50k|    silver|    142|                1|        0|\n",
            "|1000012| 33|      30s|administration|        single|high school|     no|    yes|  no|female|   Over $250k|  platinum|    140|                0|        0|\n",
            "|1000013| 53|      50s|    management|      divorced|high school|     no|    yes|  no|  male| $50k - $100k|      gold|    258|                4|        1|\n",
            "|1000014| 24|      20s|    unemployed|      divorced|high school|     no|    yes|  no|female|  $10k - $50k|    silver|    245|                3|        1|\n",
            "|1000015| 46|      40s| manufacturing|       married|   graduate|     no|    yes|  no|  male|   Over $250k|  platinum|     87|                0|        0|\n",
            "|1000016| 32|      30s|    technician|        single|high school|     no|     no|  no|  male|$100k - $250k|  platinum|    130|                2|        0|\n",
            "|1000017| 53|      50s| manufacturing|      divorced|    college|     no|    yes|  no|female| $50k - $100k|      gold|    262|                4|        1|\n",
            "|1000018| 27|      20s|    technician|       married|   graduate|     no|    yes|  no|  male|   Over $250k|  platinum|     33|                1|        0|\n",
            "|1000019| 36|      30s| manufacturing|        single|    college|     no|    yes|  no|  male|  $10k - $50k|    silver|     58|                0|        0|\n",
            "|1000020| 47|      40s|administration|       married|   graduate|     no|     no|  no|  male|   Over $250k|  platinum|     96|                1|        0|\n",
            "+-------+---+---------+--------------+--------------+-----------+-------+-------+----+------+-------------+----------+-------+-----------------+---------+\n",
            "only showing top 20 rows\n",
            "\n"
          ]
        }
      ],
      "source": [
        "attrition_data.show()"
      ]
    },
    {
      "cell_type": "code",
      "source": [
        "attrition_data.printSchema()"
      ],
      "metadata": {
        "colab": {
          "base_uri": "https://localhost:8080/"
        },
        "id": "oBmIn2ryw0Nk",
        "outputId": "daa017b3-403c-44f3-e8f4-e6407cb2d70b"
      },
      "execution_count": 64,
      "outputs": [
        {
          "output_type": "stream",
          "name": "stdout",
          "text": [
            "root\n",
            " |-- uid: integer (nullable = true)\n",
            " |-- age: integer (nullable = true)\n",
            " |-- age_group: string (nullable = true)\n",
            " |-- profession: string (nullable = true)\n",
            " |-- marital_status: string (nullable = true)\n",
            " |-- education: string (nullable = true)\n",
            " |-- default: string (nullable = true)\n",
            " |-- housing: string (nullable = true)\n",
            " |-- loan: string (nullable = true)\n",
            " |-- gender: string (nullable = true)\n",
            " |-- balance: string (nullable = true)\n",
            " |-- membership: string (nullable = true)\n",
            " |-- charges: integer (nullable = true)\n",
            " |-- customer_contacts: integer (nullable = true)\n",
            " |-- attrition: integer (nullable = true)\n",
            "\n"
          ]
        }
      ]
    },
    {
      "cell_type": "code",
      "source": [
        "#columns_to_keep =   [\"uid\", \"age\", \"age_group\", \"profession\", \"marital_status\",\n",
        "                     \"education\", \"default\", \"housing\", \"loan\", \"gender\", \"balance\", \n",
        "                     \"membership\", \"charges\", \"customer_contacts\", \"attrition\" \n",
        "                    ]\n",
        "#attrition_data = attrition_data.select(columns_to_keep)\n",
        "\n",
        "#attrition_data = attrition_data.filter(attrition_data != 'NA')\n"
      ],
      "metadata": {
        "id": "1JukWwB5zUCZ"
      },
      "execution_count": 66,
      "outputs": []
    },
    {
      "cell_type": "code",
      "source": [
        "#numeric_columns     = [c[0] for c in attrition_data.dtypes if c[1] not in ['string','timestamp']]\n",
        "#categorical_columns = [c[0] for c in attrition_data.dtypes if c[1] in ['string']]\n",
        "#datetime_columns    = [c[0] for c in attrition_data.dtypes if c[1] in ['timestamp']]"
      ],
      "metadata": {
        "id": "2BHPRHAFxGzp"
      },
      "execution_count": 67,
      "outputs": []
    },
    {
      "cell_type": "code",
      "source": [
        "#attrition_data.summary().show()"
      ],
      "metadata": {
        "id": "Gr2N0t5zNl-p"
      },
      "execution_count": null,
      "outputs": []
    },
    {
      "cell_type": "markdown",
      "metadata": {
        "id": "PntCrLUIEXI9"
      },
      "source": [
        "# Split the Spark Dataframe into Train and Test\n",
        "You could use a randomsplit here, a Cross Validator, or another approach of your choice."
      ]
    },
    {
      "cell_type": "code",
      "execution_count": 68,
      "metadata": {
        "id": "HVrbzvmIEXI-"
      },
      "outputs": [],
      "source": [
        "train_ratio = 0.7\n",
        "test_ratio = 1 - train_ratio\n",
        "\n",
        "train_attrition, test_attrition = attrition_data.randomSplit([train_ratio, test_ratio], seed = 1214)"
      ]
    },
    {
      "cell_type": "markdown",
      "metadata": {
        "id": "-FIiH7PpEXI-"
      },
      "source": [
        "# Feature Engineering\n",
        "During this step, I'd like to see you convert at least one STRING variable (such as gender, membership, education or another variable of your choice) into a numeric representation so that you can use it as one of the model inputs. You can convert the string to a numeric by using one-hot encoding, a stringindexer, etc\n",
        "\n",
        "You will also want to define a ML model object. An example of this would be a random forest, gradient boosting, or some other approach listed here."
      ]
    },
    {
      "cell_type": "code",
      "source": [
        "train_attrition.printSchema()"
      ],
      "metadata": {
        "colab": {
          "base_uri": "https://localhost:8080/"
        },
        "id": "lPTNF-WxwUgh",
        "outputId": "c3794b64-9f1f-470b-92a4-c5ae34336e38"
      },
      "execution_count": 69,
      "outputs": [
        {
          "output_type": "stream",
          "name": "stdout",
          "text": [
            "root\n",
            " |-- uid: integer (nullable = true)\n",
            " |-- age: integer (nullable = true)\n",
            " |-- age_group: string (nullable = true)\n",
            " |-- profession: string (nullable = true)\n",
            " |-- marital_status: string (nullable = true)\n",
            " |-- education: string (nullable = true)\n",
            " |-- default: string (nullable = true)\n",
            " |-- housing: string (nullable = true)\n",
            " |-- loan: string (nullable = true)\n",
            " |-- gender: string (nullable = true)\n",
            " |-- balance: string (nullable = true)\n",
            " |-- membership: string (nullable = true)\n",
            " |-- charges: integer (nullable = true)\n",
            " |-- customer_contacts: integer (nullable = true)\n",
            " |-- attrition: integer (nullable = true)\n",
            "\n"
          ]
        }
      ]
    },
    {
      "cell_type": "code",
      "source": [
        "from pyspark.ml.feature import StringIndexer, OneHotEncoder, VectorAssembler\n",
        "from pyspark.ml.classification import RandomForestClassifier\n",
        "from pyspark.ml import Pipeline"
      ],
      "metadata": {
        "id": "2kKDmWRHu7ks"
      },
      "execution_count": 70,
      "outputs": []
    },
    {
      "cell_type": "code",
      "source": [
        "# Index and encode categorical features\n",
        "categorical_columns = [\"age_group\", \"profession\", \"marital_status\", \"education\", \"default\", \"housing\", \"loan\", \"gender\", \"balance\", \"membership\"]\n",
        "indexers = [StringIndexer(inputCol=column, outputCol=column+\"_index\", handleInvalid=\"skip\") for column in categorical_columns]\n",
        "encoders = [OneHotEncoder(inputCol=column+\"_index\", outputCol=column+\"_encoded\") for column in categorical_columns]"
      ],
      "metadata": {
        "id": "TwxsvNVC8Itq"
      },
      "execution_count": 90,
      "outputs": []
    },
    {
      "cell_type": "code",
      "source": [
        "# Assemble all the features into a single features column\n",
        "assembler = VectorAssembler(inputCols=[column+\"_encoded\" for column in categorical_columns] + [\"charges\", \"customer_contacts\"], outputCol=\"features\")"
      ],
      "metadata": {
        "id": "qs3qqh5MvBsu"
      },
      "execution_count": 91,
      "outputs": []
    },
    {
      "cell_type": "code",
      "source": [
        "# Create a Random Forest classifier object\n",
        "rf = RandomForestClassifier(labelCol=\"attrition\", featuresCol=\"features\", numTrees=100)"
      ],
      "metadata": {
        "id": "afkknReMvIl9"
      },
      "execution_count": 92,
      "outputs": []
    },
    {
      "cell_type": "code",
      "source": [
        "# Create a pipeline with all the indexers, encoders, assembler, and the classifier\n",
        "pipeline = Pipeline(stages=indexers + encoders + [assembler, rf])"
      ],
      "metadata": {
        "id": "pl5l5D0ovwjp"
      },
      "execution_count": 93,
      "outputs": []
    },
    {
      "cell_type": "markdown",
      "metadata": {
        "id": "IqMyy9llEXI-"
      },
      "source": [
        "# Fit/Train ML Model"
      ]
    },
    {
      "cell_type": "code",
      "execution_count": 94,
      "metadata": {
        "id": "4XMwa8saEXI_"
      },
      "outputs": [],
      "source": [
        "model = pipeline.fit(train_attrition)"
      ]
    },
    {
      "cell_type": "markdown",
      "metadata": {
        "id": "Lh2nSaNLEXJA"
      },
      "source": [
        "# Make Predictions\n",
        "Use your model to make predications against the Test (holdout) Dataframe"
      ]
    },
    {
      "cell_type": "code",
      "source": [
        "predictions = model.transform(test_attrition)\n",
        "predictions.show()"
      ],
      "metadata": {
        "colab": {
          "base_uri": "https://localhost:8080/"
        },
        "id": "p0GZiyiv5zvR",
        "outputId": "a1e3c4fa-67dc-45b6-f1b1-c4cf6c79fbd1"
      },
      "execution_count": 95,
      "outputs": [
        {
          "output_type": "stream",
          "name": "stdout",
          "text": [
            "+-------+---+---------+--------------+--------------+-----------+-------+-------+----+------+-------------+----------+-------+-----------------+---------+---------------+----------------+--------------------+---------------+-------------+-------------+----------+------------+-------------+----------------+-----------------+------------------+----------------------+-----------------+---------------+---------------+-------------+--------------+---------------+------------------+--------------------+--------------------+--------------------+----------+\n",
            "|    uid|age|age_group|    profession|marital_status|  education|default|housing|loan|gender|      balance|membership|charges|customer_contacts|attrition|age_group_index|profession_index|marital_status_index|education_index|default_index|housing_index|loan_index|gender_index|balance_index|membership_index|age_group_encoded|profession_encoded|marital_status_encoded|education_encoded|default_encoded|housing_encoded| loan_encoded|gender_encoded|balance_encoded|membership_encoded|            features|       rawPrediction|         probability|prediction|\n",
            "+-------+---+---------+--------------+--------------+-----------+-------+-------+----+------+-------------+----------+-------+-----------------+---------+---------------+----------------+--------------------+---------------+-------------+-------------+----------+------------+-------------+----------------+-----------------+------------------+----------------------+-----------------+---------------+---------------+-------------+--------------+---------------+------------------+--------------------+--------------------+--------------------+----------+\n",
            "|1000001| 69|      60s|       retired|       married|high school|     no|     no|  no|female| $50k - $100k|      gold|     74|                5|        0|            4.0|             6.0|                 0.0|            1.0|          0.0|          1.0|       0.0|         0.0|          3.0|             2.0|    (7,[4],[1.0])|    (11,[6],[1.0])|         (2,[0],[1.0])|    (3,[1],[1.0])|  (1,[0],[1.0])|      (1,[],[])|(1,[0],[1.0])| (1,[0],[1.0])|  (4,[3],[1.0])|         (2,[],[])|(35,[4,13,18,21,2...|[93.9004464981717...|[0.93900446498171...|       0.0|\n",
            "|1000003| 45|      40s|    management|       married|high school|     no|     no|  no|female|$100k - $250k|  platinum|     58|                5|        1|            2.0|             0.0|                 0.0|            1.0|          0.0|          1.0|       0.0|         0.0|          2.0|             0.0|    (7,[2],[1.0])|    (11,[0],[1.0])|         (2,[0],[1.0])|    (3,[1],[1.0])|  (1,[0],[1.0])|      (1,[],[])|(1,[0],[1.0])| (1,[0],[1.0])|  (4,[2],[1.0])|     (2,[0],[1.0])|(35,[2,7,18,21,23...|[92.6987846499010...|[0.92698784649901...|       0.0|\n",
            "|1000004| 54|      50s|administration|      divorced|   graduate|     no|    yes|  no|female|  $10k - $50k|    silver|    317|                4|        1|            1.0|             3.0|                 2.0|            0.0|          0.0|          0.0|       0.0|         0.0|          1.0|             1.0|    (7,[1],[1.0])|    (11,[3],[1.0])|             (2,[],[])|    (3,[0],[1.0])|  (1,[0],[1.0])|  (1,[0],[1.0])|(1,[0],[1.0])| (1,[0],[1.0])|  (4,[1],[1.0])|     (2,[1],[1.0])|(35,[1,10,20,23,2...|[5.06095571610833...|[0.05060955716108...|       1.0|\n",
            "|1000009| 30|      30s|  entrepreneur|       married|   graduate|     no|     no| yes|  male|$100k - $250k|  platinum|    126|                0|        0|            0.0|             8.0|                 0.0|            0.0|          0.0|          1.0|       1.0|         1.0|          2.0|             0.0|    (7,[0],[1.0])|    (11,[8],[1.0])|         (2,[0],[1.0])|    (3,[0],[1.0])|  (1,[0],[1.0])|      (1,[],[])|    (1,[],[])|     (1,[],[])|  (4,[2],[1.0])|     (2,[0],[1.0])|(35,[0,15,18,20,2...|[93.1731655765062...|[0.93173165576506...|       0.0|\n",
            "|1000012| 33|      30s|administration|        single|high school|     no|    yes|  no|female|   Over $250k|  platinum|    140|                0|        0|            0.0|             3.0|                 1.0|            1.0|          0.0|          0.0|       0.0|         0.0|          0.0|             0.0|    (7,[0],[1.0])|    (11,[3],[1.0])|         (2,[1],[1.0])|    (3,[1],[1.0])|  (1,[0],[1.0])|  (1,[0],[1.0])|(1,[0],[1.0])| (1,[0],[1.0])|  (4,[0],[1.0])|     (2,[0],[1.0])|(35,[0,10,19,21,2...|[92.9270620174455...|[0.92927062017445...|       0.0|\n",
            "|1000017| 53|      50s| manufacturing|      divorced|    college|     no|    yes|  no|female| $50k - $100k|      gold|    262|                4|        1|            1.0|             1.0|                 2.0|            2.0|          0.0|          0.0|       0.0|         0.0|          3.0|             2.0|    (7,[1],[1.0])|    (11,[1],[1.0])|             (2,[],[])|    (3,[2],[1.0])|  (1,[0],[1.0])|  (1,[0],[1.0])|(1,[0],[1.0])| (1,[0],[1.0])|  (4,[3],[1.0])|         (2,[],[])|(35,[1,8,22,23,24...|[6.26184071693861...|[0.06261840716938...|       1.0|\n",
            "|1000021| 26|      20s|    unemployed|      divorced|high school|     no|    yes|  no|female|   Under $10k|    silver|    324|                3|        1|            3.0|             4.0|                 2.0|            1.0|          0.0|          0.0|       0.0|         0.0|          4.0|             1.0|    (7,[3],[1.0])|    (11,[4],[1.0])|             (2,[],[])|    (3,[1],[1.0])|  (1,[0],[1.0])|  (1,[0],[1.0])|(1,[0],[1.0])| (1,[0],[1.0])|      (4,[],[])|     (2,[1],[1.0])|(35,[3,11,21,23,2...|[4.03672026503452...|[0.04036720265034...|       1.0|\n",
            "|1000027| 55|      50s|    technician|      divorced|   graduate|     no|    yes|  no|  male| $50k - $100k|      gold|    201|                4|        1|            1.0|             2.0|                 2.0|            0.0|          0.0|          0.0|       0.0|         1.0|          3.0|             2.0|    (7,[1],[1.0])|    (11,[2],[1.0])|             (2,[],[])|    (3,[0],[1.0])|  (1,[0],[1.0])|  (1,[0],[1.0])|(1,[0],[1.0])|     (1,[],[])|  (4,[3],[1.0])|         (2,[],[])|(35,[1,9,20,23,24...|[9.88852437595798...|[0.09888524375957...|       1.0|\n",
            "|1000028| 46|      40s| self_employed|        single|high school|     no|    yes|  no|female|   Over $250k|  platinum|     20|                0|        0|            2.0|             7.0|                 1.0|            1.0|          0.0|          0.0|       0.0|         0.0|          0.0|             0.0|    (7,[2],[1.0])|    (11,[7],[1.0])|         (2,[1],[1.0])|    (3,[1],[1.0])|  (1,[0],[1.0])|  (1,[0],[1.0])|(1,[0],[1.0])| (1,[0],[1.0])|  (4,[0],[1.0])|     (2,[0],[1.0])|(35,[2,14,19,21,2...|[92.7118669525098...|[0.92711866952509...|       0.0|\n",
            "|1000029| 51|      50s|    consulting|       married|   graduate|     no|     no|  no|female|   Over $250k|  platinum|    164|                1|        0|            1.0|             5.0|                 0.0|            0.0|          0.0|          1.0|       0.0|         0.0|          0.0|             0.0|    (7,[1],[1.0])|    (11,[5],[1.0])|         (2,[0],[1.0])|    (3,[0],[1.0])|  (1,[0],[1.0])|      (1,[],[])|(1,[0],[1.0])| (1,[0],[1.0])|  (4,[0],[1.0])|     (2,[0],[1.0])|(35,[1,12,18,20,2...|[93.0814558680659...|[0.93081455868065...|       0.0|\n",
            "|1000033| 24|      20s|administration|      divorced|high school|     no|    yes|  no|female|  $10k - $50k|    silver|    362|                3|        1|            3.0|             3.0|                 2.0|            1.0|          0.0|          0.0|       0.0|         0.0|          1.0|             1.0|    (7,[3],[1.0])|    (11,[3],[1.0])|             (2,[],[])|    (3,[1],[1.0])|  (1,[0],[1.0])|  (1,[0],[1.0])|(1,[0],[1.0])| (1,[0],[1.0])|  (4,[1],[1.0])|     (2,[1],[1.0])|(35,[3,10,21,23,2...|[7.55460661626979...|[0.07554606616269...|       1.0|\n",
            "|1000034| 47|      40s|    technician|       married|   graduate|     no|    yes|  no|  male| $50k - $100k|      gold|      4|                0|        0|            2.0|             2.0|                 0.0|            0.0|          0.0|          0.0|       0.0|         1.0|          3.0|             2.0|    (7,[2],[1.0])|    (11,[2],[1.0])|         (2,[0],[1.0])|    (3,[0],[1.0])|  (1,[0],[1.0])|  (1,[0],[1.0])|(1,[0],[1.0])|     (1,[],[])|  (4,[3],[1.0])|         (2,[],[])|(35,[2,9,18,20,23...|[94.0563550770535...|[0.94056355077053...|       0.0|\n",
            "|1000038| 37|      30s| manufacturing|        single|high school|     no|    yes|  no|  male|   Over $250k|  platinum|    146|                0|        0|            0.0|             1.0|                 1.0|            1.0|          0.0|          0.0|       0.0|         1.0|          0.0|             0.0|    (7,[0],[1.0])|    (11,[1],[1.0])|         (2,[1],[1.0])|    (3,[1],[1.0])|  (1,[0],[1.0])|  (1,[0],[1.0])|(1,[0],[1.0])|     (1,[],[])|  (4,[0],[1.0])|     (2,[0],[1.0])|(35,[0,8,19,21,23...|[92.9815767575618...|[0.92981576757561...|       0.0|\n",
            "|1000041| 45|      40s|     executive|       married|   graduate|     no|    yes|  no|female|   Over $250k|  platinum|      9|                0|        0|            2.0|             9.0|                 0.0|            0.0|          0.0|          0.0|       0.0|         0.0|          0.0|             0.0|    (7,[2],[1.0])|    (11,[9],[1.0])|         (2,[0],[1.0])|    (3,[0],[1.0])|  (1,[0],[1.0])|  (1,[0],[1.0])|(1,[0],[1.0])| (1,[0],[1.0])|  (4,[0],[1.0])|     (2,[0],[1.0])|(35,[2,16,18,20,2...|[93.1806812417827...|[0.93180681241782...|       0.0|\n",
            "|1000045| 54|      50s|administration|      divorced|   graduate|     no|    yes|  no|female|  $10k - $50k|    silver|    309|                3|        1|            1.0|             3.0|                 2.0|            0.0|          0.0|          0.0|       0.0|         0.0|          1.0|             1.0|    (7,[1],[1.0])|    (11,[3],[1.0])|             (2,[],[])|    (3,[0],[1.0])|  (1,[0],[1.0])|  (1,[0],[1.0])|(1,[0],[1.0])| (1,[0],[1.0])|  (4,[1],[1.0])|     (2,[1],[1.0])|(35,[1,10,20,23,2...|[5.06095571610833...|[0.05060955716108...|       1.0|\n",
            "|1000050| 58|      50s|    technician|       married|   graduate|     no|     no|  no|  male|$100k - $250k|  platinum|    162|                1|        0|            1.0|             2.0|                 0.0|            0.0|          0.0|          1.0|       0.0|         1.0|          2.0|             0.0|    (7,[1],[1.0])|    (11,[2],[1.0])|         (2,[0],[1.0])|    (3,[0],[1.0])|  (1,[0],[1.0])|      (1,[],[])|(1,[0],[1.0])|     (1,[],[])|  (4,[2],[1.0])|     (2,[0],[1.0])|(35,[1,9,18,20,23...|[93.148930049316,...|[0.93148930049315...|       0.0|\n",
            "|1000052| 41|      40s|    management|      divorced|high school|     no|     no|  no|  male|$100k - $250k|  platinum|     88|                9|        0|            2.0|             0.0|                 2.0|            1.0|          0.0|          1.0|       0.0|         1.0|          2.0|             0.0|    (7,[2],[1.0])|    (11,[0],[1.0])|             (2,[],[])|    (3,[1],[1.0])|  (1,[0],[1.0])|      (1,[],[])|(1,[0],[1.0])|     (1,[],[])|  (4,[2],[1.0])|     (2,[0],[1.0])|(35,[2,7,21,23,25...|[89.8827343836368...|[0.89882734383636...|       0.0|\n",
            "|1000055| 47|      40s|    management|       married|   graduate|     no|    yes| yes|  male|  $10k - $50k|    silver|     49|                1|        0|            2.0|             0.0|                 0.0|            0.0|          0.0|          0.0|       1.0|         1.0|          1.0|             1.0|    (7,[2],[1.0])|    (11,[0],[1.0])|         (2,[0],[1.0])|    (3,[0],[1.0])|  (1,[0],[1.0])|  (1,[0],[1.0])|    (1,[],[])|     (1,[],[])|  (4,[1],[1.0])|     (2,[1],[1.0])|(35,[2,7,18,20,23...|[95.1373606029519...|[0.95137360602951...|       0.0|\n",
            "|1000059| 44|      40s|    unemployed|        single|   graduate|     no|    yes|  no|female|  $10k - $50k|    silver|     24|                0|        0|            2.0|             4.0|                 1.0|            0.0|          0.0|          0.0|       0.0|         0.0|          1.0|             1.0|    (7,[2],[1.0])|    (11,[4],[1.0])|         (2,[1],[1.0])|    (3,[0],[1.0])|  (1,[0],[1.0])|  (1,[0],[1.0])|(1,[0],[1.0])| (1,[0],[1.0])|  (4,[1],[1.0])|     (2,[1],[1.0])|(35,[2,11,19,20,2...|[92.7835329557721...|[0.92783532955772...|       0.0|\n",
            "|1000061| 30|      30s|    management|        single|high school|     no|     no|  no|female|$100k - $250k|  platinum|    109|                1|        0|            0.0|             0.0|                 1.0|            1.0|          0.0|          1.0|       0.0|         0.0|          2.0|             0.0|    (7,[0],[1.0])|    (11,[0],[1.0])|         (2,[1],[1.0])|    (3,[1],[1.0])|  (1,[0],[1.0])|      (1,[],[])|(1,[0],[1.0])| (1,[0],[1.0])|  (4,[2],[1.0])|     (2,[0],[1.0])|(35,[0,7,19,21,23...|[93.0000407639818...|[0.93000040763981...|       0.0|\n",
            "+-------+---+---------+--------------+--------------+-----------+-------+-------+----+------+-------------+----------+-------+-----------------+---------+---------------+----------------+--------------------+---------------+-------------+-------------+----------+------------+-------------+----------------+-----------------+------------------+----------------------+-----------------+---------------+---------------+-------------+--------------+---------------+------------------+--------------------+--------------------+--------------------+----------+\n",
            "only showing top 20 rows\n",
            "\n"
          ]
        }
      ]
    },
    {
      "cell_type": "code",
      "source": [
        "predictions.select([\"attrition\", \"prediction\"]).show()"
      ],
      "metadata": {
        "colab": {
          "base_uri": "https://localhost:8080/"
        },
        "id": "pGJNHPwL6EaV",
        "outputId": "f5472770-1eb5-4a4b-e89a-17327e014d39"
      },
      "execution_count": 96,
      "outputs": [
        {
          "output_type": "stream",
          "name": "stdout",
          "text": [
            "+---------+----------+\n",
            "|attrition|prediction|\n",
            "+---------+----------+\n",
            "|        0|       0.0|\n",
            "|        1|       0.0|\n",
            "|        1|       1.0|\n",
            "|        0|       0.0|\n",
            "|        0|       0.0|\n",
            "|        1|       1.0|\n",
            "|        1|       1.0|\n",
            "|        1|       1.0|\n",
            "|        0|       0.0|\n",
            "|        0|       0.0|\n",
            "|        1|       1.0|\n",
            "|        0|       0.0|\n",
            "|        0|       0.0|\n",
            "|        0|       0.0|\n",
            "|        1|       1.0|\n",
            "|        0|       0.0|\n",
            "|        0|       0.0|\n",
            "|        0|       0.0|\n",
            "|        0|       0.0|\n",
            "|        0|       0.0|\n",
            "+---------+----------+\n",
            "only showing top 20 rows\n",
            "\n"
          ]
        }
      ]
    },
    {
      "cell_type": "markdown",
      "metadata": {
        "id": "zHZNqQ6nEXJA"
      },
      "source": [
        "# Evaluate Model against Test Dataframe\n",
        "Display model fit statistics, such as RMSE or MSE"
      ]
    },
    {
      "cell_type": "code",
      "source": [
        "predictions.printSchema()"
      ],
      "metadata": {
        "id": "BaaFPav27Duu"
      },
      "execution_count": null,
      "outputs": []
    },
    {
      "cell_type": "code",
      "source": [
        "from pyspark.ml.evaluation import BinaryClassificationEvaluator\n",
        "\n",
        "# Create evaluators for AUC-ROC and AUC-PR\n",
        "auc_roc_evaluator = BinaryClassificationEvaluator(labelCol=\"attrition\", rawPredictionCol=\"rawPrediction\", metricName=\"areaUnderROC\")\n",
        "auc_pr_evaluator = BinaryClassificationEvaluator(labelCol=\"attrition\", rawPredictionCol=\"rawPrediction\", metricName=\"areaUnderPR\")\n",
        "\n",
        "# Calculate the metrics using the evaluators\n",
        "auc_roc = auc_roc_evaluator.evaluate(predictions)\n",
        "auc_pr = auc_pr_evaluator.evaluate(predictions)\n",
        "\n",
        "# Print the metrics\n",
        "print(\"AUC-ROC: {:.4f}\".format(auc_roc))\n",
        "print(\"AUC-PR: {:.4f}\".format(auc_pr))"
      ],
      "metadata": {
        "colab": {
          "base_uri": "https://localhost:8080/"
        },
        "id": "Wi4FSTwW8qj0",
        "outputId": "2cf6c083-60a0-47a5-fab8-e2dbc71c2cc3"
      },
      "execution_count": 99,
      "outputs": [
        {
          "output_type": "stream",
          "name": "stdout",
          "text": [
            "AUC-ROC: 0.9032\n",
            "AUC-PR: 0.8574\n"
          ]
        }
      ]
    },
    {
      "cell_type": "code",
      "execution_count": 97,
      "metadata": {
        "colab": {
          "base_uri": "https://localhost:8080/"
        },
        "id": "wKN1bYD5EXJA",
        "outputId": "ffa3826c-486a-4af3-8e92-083ad4082c33"
      },
      "outputs": [
        {
          "output_type": "stream",
          "name": "stdout",
          "text": [
            "Accuracy: 0.9446\n",
            "Precision: 0.9472\n",
            "Recall: 0.9446\n",
            "F1 Score: 0.9420\n"
          ]
        }
      ],
      "source": [
        "from pyspark.ml.evaluation import MulticlassClassificationEvaluator\n",
        "\n",
        "# Create evaluators for accuracy, precision, recall, and F1 score\n",
        "accuracy_evaluator = MulticlassClassificationEvaluator(labelCol=\"attrition\", predictionCol=\"prediction\", metricName=\"accuracy\")\n",
        "precision_evaluator = MulticlassClassificationEvaluator(labelCol=\"attrition\", predictionCol=\"prediction\", metricName=\"weightedPrecision\")\n",
        "recall_evaluator = MulticlassClassificationEvaluator(labelCol=\"attrition\", predictionCol=\"prediction\", metricName=\"weightedRecall\")\n",
        "f1_evaluator = MulticlassClassificationEvaluator(labelCol=\"attrition\", predictionCol=\"prediction\", metricName=\"f1\")\n",
        "\n",
        "# Calculate the metrics using the evaluators\n",
        "accuracy = accuracy_evaluator.evaluate(predictions)\n",
        "precision = precision_evaluator.evaluate(predictions)\n",
        "recall = recall_evaluator.evaluate(predictions)\n",
        "f1_score = f1_evaluator.evaluate(predictions)\n",
        "\n",
        "# Print the metrics\n",
        "print(\"Accuracy: {:.4f}\".format(accuracy))\n",
        "print(\"Precision: {:.4f}\".format(precision))\n",
        "print(\"Recall: {:.4f}\".format(recall))\n",
        "print(\"F1 Score: {:.4f}\".format(f1_score))"
      ]
    },
    {
      "cell_type": "markdown",
      "metadata": {
        "id": "mUFAaEl-EXJA"
      },
      "source": [
        "# Save the Model Object (Optional)\n",
        "Write spark code that saves your model object.\n",
        "\n",
        "Context: For production purposes, it's often requierd to save the model object so that it can be deployed as a stand-alone and compressed binary object. The model object is typically wrapped in a container and served as a REST or gRPC endpoint."
      ]
    },
    {
      "cell_type": "code",
      "execution_count": null,
      "metadata": {
        "id": "f8Z6BGmNEXJB"
      },
      "outputs": [],
      "source": [
        "# Save the trained model\n",
        "model_path = \"path/to/save/your/model\"\n",
        "model.save(model_path)"
      ]
    }
  ],
  "metadata": {
    "kernelspec": {
      "display_name": "base",
      "language": "python",
      "name": "python3"
    },
    "language_info": {
      "codemirror_mode": {
        "name": "ipython",
        "version": 3
      },
      "file_extension": ".py",
      "mimetype": "text/x-python",
      "name": "python",
      "nbconvert_exporter": "python",
      "pygments_lexer": "ipython3",
      "version": "3.9.13"
    },
    "orig_nbformat": 4,
    "colab": {
      "provenance": [],
      "include_colab_link": true
    }
  },
  "nbformat": 4,
  "nbformat_minor": 0
}